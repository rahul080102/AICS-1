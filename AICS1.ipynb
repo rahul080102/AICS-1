{
  "nbformat": 4,
  "nbformat_minor": 0,
  "metadata": {
    "colab": {
      "provenance": [],
      "authorship_tag": "ABX9TyOl4JPALrKE8HOZNnUEr6Hn",
      "include_colab_link": true
    },
    "kernelspec": {
      "name": "python3",
      "display_name": "Python 3"
    },
    "language_info": {
      "name": "python"
    }
  },
  "cells": [
    {
      "cell_type": "markdown",
      "metadata": {
        "id": "view-in-github",
        "colab_type": "text"
      },
      "source": [
        "<a href=\"https://colab.research.google.com/github/Prathamesh1916/AICS/blob/main/AICS1.ipynb\" target=\"_parent\"><img src=\"https://colab.research.google.com/assets/colab-badge.svg\" alt=\"Open In Colab\"/></a>"
      ]
    },
    {
      "cell_type": "code",
      "execution_count": 1,
      "metadata": {
        "colab": {
          "base_uri": "https://localhost:8080/"
        },
        "id": "I4DUkC1XdjHC",
        "outputId": "064e7b8b-e31d-4186-82e0-eb6ef66e2a36"
      },
      "outputs": [
        {
          "output_type": "stream",
          "name": "stdout",
          "text": [
            "['1', '2', '3', '4']\n"
          ]
        }
      ],
      "source": [
        "list = [\"1\", \"2\", \"3\"]\n",
        "list.append(\"4\")\n",
        "print(list)"
      ]
    },
    {
      "cell_type": "code",
      "source": [
        "list = [\"1\", \"2\", \"3\"]\n",
        "list.insert(0, \"4\")\n",
        "print(list)"
      ],
      "metadata": {
        "colab": {
          "base_uri": "https://localhost:8080/"
        },
        "id": "wgpqFinzepMq",
        "outputId": "bba10170-359a-44cd-9313-83dbb5388d69"
      },
      "execution_count": 3,
      "outputs": [
        {
          "output_type": "stream",
          "name": "stdout",
          "text": [
            "['4', '1', '2', '3']\n"
          ]
        }
      ]
    },
    {
      "cell_type": "code",
      "source": [
        "list = [\"1\", \"2\", \"3\"]\n",
        "list.pop(2)\n",
        "print(list)"
      ],
      "metadata": {
        "colab": {
          "base_uri": "https://localhost:8080/"
        },
        "id": "SNF8j2nGfnlG",
        "outputId": "86c82fef-181a-4867-aef3-fe5d9b585198"
      },
      "execution_count": 5,
      "outputs": [
        {
          "output_type": "stream",
          "name": "stdout",
          "text": [
            "['1', '2']\n"
          ]
        }
      ]
    },
    {
      "cell_type": "code",
      "source": [
        "dict =\t{\"A\": \"1\", \"B\": \"2\", \"C\": 3}\n",
        "dict[\"D\"] = \"4\"\n",
        "print(dict)"
      ],
      "metadata": {
        "colab": {
          "base_uri": "https://localhost:8080/"
        },
        "id": "FA4pZCG4f-BY",
        "outputId": "c4cfed3f-b85b-476a-e04e-767dc3332a69"
      },
      "execution_count": 6,
      "outputs": [
        {
          "output_type": "stream",
          "name": "stdout",
          "text": [
            "{'A': '1', 'B': '2', 'C': 3, 'D': '4'}\n"
          ]
        }
      ]
    },
    {
      "cell_type": "code",
      "source": [
        "dict =\t{\"A\": \"1\", \"B\": \"2\", \"C\": 3, \"D\": \"4\"}\n",
        "dict.pop(\"D\")\n",
        "print(dict)"
      ],
      "metadata": {
        "colab": {
          "base_uri": "https://localhost:8080/"
        },
        "id": "O0JpQQ7AgxFh",
        "outputId": "6b853f1e-bf17-4892-c5f3-0ace98a26a00"
      },
      "execution_count": 7,
      "outputs": [
        {
          "output_type": "stream",
          "name": "stdout",
          "text": [
            "{'A': '1', 'B': '2', 'C': 3}\n"
          ]
        }
      ]
    },
    {
      "cell_type": "code",
      "source": [
        "dict =\t{\"A\": \"1\", \"B\": \"2\", \"C\": 3, \"D\": \"4\"}\n",
        "dict.copy()"
      ],
      "metadata": {
        "colab": {
          "base_uri": "https://localhost:8080/"
        },
        "id": "cmMJVsNig_3d",
        "outputId": "b48c5012-a7f3-4754-f73c-2a4e1a717a26"
      },
      "execution_count": 8,
      "outputs": [
        {
          "output_type": "execute_result",
          "data": {
            "text/plain": [
              "{'A': '1', 'B': '2', 'C': 3, 'D': '4'}"
            ]
          },
          "metadata": {},
          "execution_count": 8
        }
      ]
    },
    {
      "cell_type": "code",
      "source": [],
      "metadata": {
        "id": "kvnEnJVvhSFI"
      },
      "execution_count": null,
      "outputs": []
    }
  ]
}